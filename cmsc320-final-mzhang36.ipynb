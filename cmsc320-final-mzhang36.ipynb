{
 "cells": [
  {
   "cell_type": "markdown",
   "metadata": {},
   "source": [
    "# Predict the mean of award for each type of contract in music and cultral events in 2027\n",
    "## Overview\n",
    "Nowadays, more and more people get used to the current situation that everyone will be positive in Covid-19. Although more and more people view Covid-19 similar as catching a cold, people are still suggested that we should take it seriously because infected with Covid-19 sometimes can be for more disturbing than a cold. I set this prediction because I want to predict in 2027, how many people will get infected, and whether we need to treat Covid-19 more seriously.\n",
    "## Dataset\n",
    "### Dataset Name\n",
    "The dataset is about the covid-19 data from Bing starting 2020 to 2021. We'll use it to predict the number of confirmed, death, and recovered cases in 2027."
   ]
  },
  {
   "cell_type": "code",
   "execution_count": 139,
   "metadata": {},
   "outputs": [],
   "source": [
    "import numpy as np\n",
    "import pandas as pd\n",
    "import matplotlib.pyplot as plt\n",
    "import seaborn as sns\n",
    "# Some algorithms for predicting\n",
    "from sklearn.preprocessing import StandardScaler\n",
    "from sklearn.model_selection import train_test_split\n",
    "from sklearn.linear_model import LogisticRegression \n",
    "from sklearn.linear_model import LinearRegression\n",
    "from sklearn.neighbors import KNeighborsClassifier \n",
    "from sklearn.tree import DecisionTreeClassifier \n",
    "from sklearn.ensemble import RandomForestClassifier \n",
    "from sklearn.model_selection import cross_val_score\n",
    "from sklearn.metrics import roc_auc_score\n",
    "from sklearn.model_selection import cross_val_predict\n",
    "from sklearn.metrics import confusion_matrix\n",
    "from sklearn.metrics import accuracy_score\n",
    "from sklearn.metrics import f1_score\n",
    "from sklearn.metrics import classification_report"
   ]
  },
  {
   "cell_type": "code",
   "execution_count": 89,
   "metadata": {},
   "outputs": [],
   "source": [
    "data = pd.read_csv(\"Downloads/bing_covid-19_data.csv\", low_memory=False)"
   ]
  },
  {
   "cell_type": "markdown",
   "metadata": {},
   "source": [
    "### Preprocess the dataset\n",
    "We only care about the data which is in the region of the United States. To be more convenient in recognizing, we drop all non-numeric and irrelevant columns and set the report id as the index of any Covid-19 update. The reason that we drop those columns is mainly that we don't need the dates, latitude, longitude, or any other geometrical infomation to predict the trend or future of number of confirmed cases, death cases, or recovered cases. After that, we drop the rows that the changes of confirmed cases, death cases, and recovered cases are all zeros, because those data are redundant and only take up more time when building up the models. In the end of preprocessing, we replace all the nan with zeroes since no recover cases are reported at first. In addition, we reset the index because we need the id as x-axis of our plot."
   ]
  },
  {
   "cell_type": "code",
   "execution_count": 93,
   "metadata": {},
   "outputs": [],
   "source": [
    "data = data[(data[['country_region']] == 'United States').all(axis=1)]\n",
    "\n",
    "data = data.drop(columns = ['updated','latitude','longitude','iso2','iso3','country_region','admin_region_1','iso_subdivision','admin_region_2','load_time'])\n",
    "\n",
    "data.set_index(\"id\", inplace = True)"
   ]
  },
  {
   "cell_type": "code",
   "execution_count": 96,
   "metadata": {},
   "outputs": [],
   "source": [
    "# drop the rows with all 0's in change or null in confirmed_change\n",
    "data = data[(np.isnan(data[['confirmed_change']]) == False).all(axis=1)]\n",
    "data = data.loc[data['confirmed_change'] * data['deaths_change'] * data['recovered_change'] != 0]"
   ]
  },
  {
   "cell_type": "code",
   "execution_count": 97,
   "metadata": {},
   "outputs": [
    {
     "data": {
      "text/html": [
       "<div>\n",
       "<style scoped>\n",
       "    .dataframe tbody tr th:only-of-type {\n",
       "        vertical-align: middle;\n",
       "    }\n",
       "\n",
       "    .dataframe tbody tr th {\n",
       "        vertical-align: top;\n",
       "    }\n",
       "\n",
       "    .dataframe thead th {\n",
       "        text-align: right;\n",
       "    }\n",
       "</style>\n",
       "<table border=\"1\" class=\"dataframe\">\n",
       "  <thead>\n",
       "    <tr style=\"text-align: right;\">\n",
       "      <th></th>\n",
       "      <th>id</th>\n",
       "      <th>confirmed</th>\n",
       "      <th>confirmed_change</th>\n",
       "      <th>deaths</th>\n",
       "      <th>deaths_change</th>\n",
       "      <th>recovered</th>\n",
       "      <th>recovered_change</th>\n",
       "    </tr>\n",
       "  </thead>\n",
       "  <tbody>\n",
       "    <tr>\n",
       "      <th>0</th>\n",
       "      <td>339286</td>\n",
       "      <td>1</td>\n",
       "      <td>0.0</td>\n",
       "      <td>0.0</td>\n",
       "      <td>0.0</td>\n",
       "      <td>NaN</td>\n",
       "      <td>NaN</td>\n",
       "    </tr>\n",
       "    <tr>\n",
       "      <th>1</th>\n",
       "      <td>339287</td>\n",
       "      <td>2</td>\n",
       "      <td>1.0</td>\n",
       "      <td>0.0</td>\n",
       "      <td>0.0</td>\n",
       "      <td>NaN</td>\n",
       "      <td>NaN</td>\n",
       "    </tr>\n",
       "    <tr>\n",
       "      <th>2</th>\n",
       "      <td>339288</td>\n",
       "      <td>2</td>\n",
       "      <td>0.0</td>\n",
       "      <td>0.0</td>\n",
       "      <td>0.0</td>\n",
       "      <td>NaN</td>\n",
       "      <td>NaN</td>\n",
       "    </tr>\n",
       "    <tr>\n",
       "      <th>3</th>\n",
       "      <td>339289</td>\n",
       "      <td>5</td>\n",
       "      <td>3.0</td>\n",
       "      <td>0.0</td>\n",
       "      <td>0.0</td>\n",
       "      <td>NaN</td>\n",
       "      <td>NaN</td>\n",
       "    </tr>\n",
       "    <tr>\n",
       "      <th>4</th>\n",
       "      <td>339290</td>\n",
       "      <td>5</td>\n",
       "      <td>0.0</td>\n",
       "      <td>0.0</td>\n",
       "      <td>0.0</td>\n",
       "      <td>NaN</td>\n",
       "      <td>NaN</td>\n",
       "    </tr>\n",
       "    <tr>\n",
       "      <th>...</th>\n",
       "      <td>...</td>\n",
       "      <td>...</td>\n",
       "      <td>...</td>\n",
       "      <td>...</td>\n",
       "      <td>...</td>\n",
       "      <td>...</td>\n",
       "      <td>...</td>\n",
       "    </tr>\n",
       "    <tr>\n",
       "      <th>2538473</th>\n",
       "      <td>208963556</td>\n",
       "      <td>1807</td>\n",
       "      <td>3.0</td>\n",
       "      <td>20.0</td>\n",
       "      <td>0.0</td>\n",
       "      <td>NaN</td>\n",
       "      <td>NaN</td>\n",
       "    </tr>\n",
       "    <tr>\n",
       "      <th>2538474</th>\n",
       "      <td>209110466</td>\n",
       "      <td>1807</td>\n",
       "      <td>0.0</td>\n",
       "      <td>21.0</td>\n",
       "      <td>1.0</td>\n",
       "      <td>NaN</td>\n",
       "      <td>NaN</td>\n",
       "    </tr>\n",
       "    <tr>\n",
       "      <th>2538475</th>\n",
       "      <td>209258819</td>\n",
       "      <td>1807</td>\n",
       "      <td>0.0</td>\n",
       "      <td>21.0</td>\n",
       "      <td>0.0</td>\n",
       "      <td>NaN</td>\n",
       "      <td>NaN</td>\n",
       "    </tr>\n",
       "    <tr>\n",
       "      <th>2538476</th>\n",
       "      <td>209406973</td>\n",
       "      <td>1807</td>\n",
       "      <td>0.0</td>\n",
       "      <td>21.0</td>\n",
       "      <td>0.0</td>\n",
       "      <td>NaN</td>\n",
       "      <td>NaN</td>\n",
       "    </tr>\n",
       "    <tr>\n",
       "      <th>2538477</th>\n",
       "      <td>209555056</td>\n",
       "      <td>1807</td>\n",
       "      <td>0.0</td>\n",
       "      <td>21.0</td>\n",
       "      <td>0.0</td>\n",
       "      <td>NaN</td>\n",
       "      <td>NaN</td>\n",
       "    </tr>\n",
       "  </tbody>\n",
       "</table>\n",
       "<p>2538478 rows × 7 columns</p>\n",
       "</div>"
      ],
      "text/plain": [
       "                id  confirmed  confirmed_change  deaths  deaths_change  \\\n",
       "0           339286          1               0.0     0.0            0.0   \n",
       "1           339287          2               1.0     0.0            0.0   \n",
       "2           339288          2               0.0     0.0            0.0   \n",
       "3           339289          5               3.0     0.0            0.0   \n",
       "4           339290          5               0.0     0.0            0.0   \n",
       "...            ...        ...               ...     ...            ...   \n",
       "2538473  208963556       1807               3.0    20.0            0.0   \n",
       "2538474  209110466       1807               0.0    21.0            1.0   \n",
       "2538475  209258819       1807               0.0    21.0            0.0   \n",
       "2538476  209406973       1807               0.0    21.0            0.0   \n",
       "2538477  209555056       1807               0.0    21.0            0.0   \n",
       "\n",
       "         recovered  recovered_change  \n",
       "0              NaN               NaN  \n",
       "1              NaN               NaN  \n",
       "2              NaN               NaN  \n",
       "3              NaN               NaN  \n",
       "4              NaN               NaN  \n",
       "...            ...               ...  \n",
       "2538473        NaN               NaN  \n",
       "2538474        NaN               NaN  \n",
       "2538475        NaN               NaN  \n",
       "2538476        NaN               NaN  \n",
       "2538477        NaN               NaN  \n",
       "\n",
       "[2538478 rows x 7 columns]"
      ]
     },
     "execution_count": 97,
     "metadata": {},
     "output_type": "execute_result"
    }
   ],
   "source": [
    "data.reset_index()"
   ]
  },
  {
   "cell_type": "markdown",
   "metadata": {},
   "source": [
    "After I've done the data cleaning steps, I'm going to visualize the data using scatterplot and more other kinds of plot to show whether Covid-19 will be serious in the future."
   ]
  },
  {
   "cell_type": "code",
   "execution_count": 111,
   "metadata": {},
   "outputs": [],
   "source": [
    "data = data.reset_index()"
   ]
  },
  {
   "cell_type": "code",
   "execution_count": 118,
   "metadata": {},
   "outputs": [
    {
     "data": {
      "text/html": [
       "<div>\n",
       "<style scoped>\n",
       "    .dataframe tbody tr th:only-of-type {\n",
       "        vertical-align: middle;\n",
       "    }\n",
       "\n",
       "    .dataframe tbody tr th {\n",
       "        vertical-align: top;\n",
       "    }\n",
       "\n",
       "    .dataframe thead th {\n",
       "        text-align: right;\n",
       "    }\n",
       "</style>\n",
       "<table border=\"1\" class=\"dataframe\">\n",
       "  <thead>\n",
       "    <tr style=\"text-align: right;\">\n",
       "      <th></th>\n",
       "      <th>id</th>\n",
       "      <th>confirmed</th>\n",
       "      <th>confirmed_change</th>\n",
       "      <th>deaths</th>\n",
       "      <th>deaths_change</th>\n",
       "      <th>recovered</th>\n",
       "      <th>recovered_change</th>\n",
       "    </tr>\n",
       "  </thead>\n",
       "  <tbody>\n",
       "    <tr>\n",
       "      <th>0</th>\n",
       "      <td>339286</td>\n",
       "      <td>1</td>\n",
       "      <td>0.0</td>\n",
       "      <td>0.0</td>\n",
       "      <td>0.0</td>\n",
       "      <td>NaN</td>\n",
       "      <td>NaN</td>\n",
       "    </tr>\n",
       "    <tr>\n",
       "      <th>1</th>\n",
       "      <td>339287</td>\n",
       "      <td>2</td>\n",
       "      <td>1.0</td>\n",
       "      <td>0.0</td>\n",
       "      <td>0.0</td>\n",
       "      <td>NaN</td>\n",
       "      <td>NaN</td>\n",
       "    </tr>\n",
       "    <tr>\n",
       "      <th>2</th>\n",
       "      <td>339288</td>\n",
       "      <td>2</td>\n",
       "      <td>0.0</td>\n",
       "      <td>0.0</td>\n",
       "      <td>0.0</td>\n",
       "      <td>NaN</td>\n",
       "      <td>NaN</td>\n",
       "    </tr>\n",
       "    <tr>\n",
       "      <th>3</th>\n",
       "      <td>339289</td>\n",
       "      <td>5</td>\n",
       "      <td>3.0</td>\n",
       "      <td>0.0</td>\n",
       "      <td>0.0</td>\n",
       "      <td>NaN</td>\n",
       "      <td>NaN</td>\n",
       "    </tr>\n",
       "    <tr>\n",
       "      <th>4</th>\n",
       "      <td>339290</td>\n",
       "      <td>5</td>\n",
       "      <td>0.0</td>\n",
       "      <td>0.0</td>\n",
       "      <td>0.0</td>\n",
       "      <td>NaN</td>\n",
       "      <td>NaN</td>\n",
       "    </tr>\n",
       "    <tr>\n",
       "      <th>...</th>\n",
       "      <td>...</td>\n",
       "      <td>...</td>\n",
       "      <td>...</td>\n",
       "      <td>...</td>\n",
       "      <td>...</td>\n",
       "      <td>...</td>\n",
       "      <td>...</td>\n",
       "    </tr>\n",
       "    <tr>\n",
       "      <th>2538473</th>\n",
       "      <td>208963556</td>\n",
       "      <td>1807</td>\n",
       "      <td>3.0</td>\n",
       "      <td>20.0</td>\n",
       "      <td>0.0</td>\n",
       "      <td>NaN</td>\n",
       "      <td>NaN</td>\n",
       "    </tr>\n",
       "    <tr>\n",
       "      <th>2538474</th>\n",
       "      <td>209110466</td>\n",
       "      <td>1807</td>\n",
       "      <td>0.0</td>\n",
       "      <td>21.0</td>\n",
       "      <td>1.0</td>\n",
       "      <td>NaN</td>\n",
       "      <td>NaN</td>\n",
       "    </tr>\n",
       "    <tr>\n",
       "      <th>2538475</th>\n",
       "      <td>209258819</td>\n",
       "      <td>1807</td>\n",
       "      <td>0.0</td>\n",
       "      <td>21.0</td>\n",
       "      <td>0.0</td>\n",
       "      <td>NaN</td>\n",
       "      <td>NaN</td>\n",
       "    </tr>\n",
       "    <tr>\n",
       "      <th>2538476</th>\n",
       "      <td>209406973</td>\n",
       "      <td>1807</td>\n",
       "      <td>0.0</td>\n",
       "      <td>21.0</td>\n",
       "      <td>0.0</td>\n",
       "      <td>NaN</td>\n",
       "      <td>NaN</td>\n",
       "    </tr>\n",
       "    <tr>\n",
       "      <th>2538477</th>\n",
       "      <td>209555056</td>\n",
       "      <td>1807</td>\n",
       "      <td>0.0</td>\n",
       "      <td>21.0</td>\n",
       "      <td>0.0</td>\n",
       "      <td>NaN</td>\n",
       "      <td>NaN</td>\n",
       "    </tr>\n",
       "  </tbody>\n",
       "</table>\n",
       "<p>2538478 rows × 7 columns</p>\n",
       "</div>"
      ],
      "text/plain": [
       "                id  confirmed  confirmed_change  deaths  deaths_change  \\\n",
       "0           339286          1               0.0     0.0            0.0   \n",
       "1           339287          2               1.0     0.0            0.0   \n",
       "2           339288          2               0.0     0.0            0.0   \n",
       "3           339289          5               3.0     0.0            0.0   \n",
       "4           339290          5               0.0     0.0            0.0   \n",
       "...            ...        ...               ...     ...            ...   \n",
       "2538473  208963556       1807               3.0    20.0            0.0   \n",
       "2538474  209110466       1807               0.0    21.0            1.0   \n",
       "2538475  209258819       1807               0.0    21.0            0.0   \n",
       "2538476  209406973       1807               0.0    21.0            0.0   \n",
       "2538477  209555056       1807               0.0    21.0            0.0   \n",
       "\n",
       "         recovered  recovered_change  \n",
       "0              NaN               NaN  \n",
       "1              NaN               NaN  \n",
       "2              NaN               NaN  \n",
       "3              NaN               NaN  \n",
       "4              NaN               NaN  \n",
       "...            ...               ...  \n",
       "2538473        NaN               NaN  \n",
       "2538474        NaN               NaN  \n",
       "2538475        NaN               NaN  \n",
       "2538476        NaN               NaN  \n",
       "2538477        NaN               NaN  \n",
       "\n",
       "[2538478 rows x 7 columns]"
      ]
     },
     "execution_count": 118,
     "metadata": {},
     "output_type": "execute_result"
    }
   ],
   "source": [
    "data"
   ]
  },
  {
   "cell_type": "code",
   "execution_count": 119,
   "metadata": {},
   "outputs": [
    {
     "data": {
      "text/plain": [
       "id                  209110466.0\n",
       "confirmed                1807.0\n",
       "confirmed_change            0.0\n",
       "deaths                     21.0\n",
       "deaths_change               1.0\n",
       "recovered                   NaN\n",
       "recovered_change            NaN\n",
       "Name: 2538474, dtype: float64"
      ]
     },
     "execution_count": 119,
     "metadata": {},
     "output_type": "execute_result"
    }
   ],
   "source": [
    "data.iloc[2538474]"
   ]
  },
  {
   "cell_type": "code",
   "execution_count": 136,
   "metadata": {
    "scrolled": true
   },
   "outputs": [
    {
     "data": {
      "image/png": "[encoded data removed]",
      "text/plain": [
       "<Figure size 432x288 with 1 Axes>"
      ]
     },
     "metadata": {
      "needs_background": "light"
     },
     "output_type": "display_data"
    }
   ],
   "source": [
    "# confirmed cases\n",
    "fig=plt.figure()\n",
    "ax=fig.add_axes([0,0,1,1])\n",
    "ax.scatter(x = data.index, y=data.confirmed.tolist())\n",
    "ax.set_xlabel('Index of Updates')\n",
    "ax.set_ylabel('Number of Confirmed Cases')\n",
    "ax.set_title('scatter plot of Confirmed Cases as Time Passes by')\n",
    "plt.show()"
   ]
  },
  {
   "cell_type": "code",
   "execution_count": 137,
   "metadata": {},
   "outputs": [
    {
     "data": {
      "image/png": "[encoded data removed]",
      "text/plain": [
       "<Figure size 432x288 with 1 Axes>"
      ]
     },
     "metadata": {
      "needs_background": "light"
     },
     "output_type": "display_data"
    }
   ],
   "source": [
    "# deaths cases\n",
    "fig=plt.figure()\n",
    "ax=fig.add_axes([0,0,1,1])\n",
    "plt.scatter(x = data.index, y=data.deaths)\n",
    "ax.set_xlabel('Index of Updates')\n",
    "ax.set_ylabel('Number of Death Cases')\n",
    "ax.set_title('scatter plot of Death Cases as Time Passes by')\n",
    "plt.show()"
   ]
  },
  {
   "cell_type": "code",
   "execution_count": 138,
   "metadata": {
    "scrolled": true
   },
   "outputs": [
    {
     "data": {
      "image/png": "[encoded data removed]",
      "text/plain": [
       "<Figure size 432x288 with 1 Axes>"
      ]
     },
     "metadata": {
      "needs_background": "light"
     },
     "output_type": "display_data"
    }
   ],
   "source": [
    "fig=plt.figure()\n",
    "ax=fig.add_axes([0,0,1,1])\n",
    "ax.scatter(x = data.index, y=data.recovered)\n",
    "ax.set_xlabel('Index of Updates')\n",
    "ax.set_ylabel('Number of Recovered Cases')\n",
    "ax.set_title('scatter plot of Recovered Cases as Time Passes by')\n",
    "plt.show()"
   ]
  },
  {
   "cell_type": "markdown",
   "metadata": {},
   "source": [
    "We can see from the above that at first, all of confirmed, recovered, and death cases has skyrocket to a maximum (although there are some point missing in recovered cases due to lack of record, it's still not difficult to see the trend mentioned above). After that, the number of cases fluctuated in all three kinds of cases, but no longer reached so high. Above all, I think the number of cases in all three kinds are descending, and thus it's reasonable to do a linear regression model."
   ]
  },
  {
   "cell_type": "code",
   "execution_count": null,
   "metadata": {},
   "outputs": [],
   "source": [
    "reg = LinearRegression().fit([data.index],[data.confirmed])\n",
    "y = reg.predict([data.confirmed])\n",
    "fig, ax = plt.subplots()\n",
    "plt.plot(data.index,y,c = 'darkblue')\n",
    "ax.set_title('Linear regression of Confirmed Cases as Time Passes by')"
   ]
  },
  {
   "cell_type": "code",
   "execution_count": null,
   "metadata": {},
   "outputs": [],
   "source": [
    "reg = LinearRegression().fit([data.index],[data.confirmed])\n",
    "y = reg.predict([data.confirmed])\n",
    "fig, ax = plt.subplots()\n",
    "plt.plot(data.index,y,c = 'darkblue')\n",
    "ax.set_title('Linear regression of Recovered Cases as Time Passes by')"
   ]
  },
  {
   "cell_type": "code",
   "execution_count": null,
   "metadata": {},
   "outputs": [],
   "source": [
    "reg = LinearRegression().fit([data.index],[data.confirmed])\n",
    "y = reg.predict([data.confirmed])\n",
    "fig, ax = plt.subplots()\n",
    "plt.plot(data.index,y,c = 'darkblue')\n",
    "ax.set_title('Linear regression of Death Cases as Time Passes by')"
   ]
  },
  {
   "cell_type": "markdown",
   "metadata": {},
   "source": [
    "There are some errors goes to my regression models and I have no idea of how to deal with it, but I will continue my pipeline below. Please forgive me of no figures and no more hypothesis testing because they all depend on the regression model."
   ]
  },
  {
   "cell_type": "markdown",
   "metadata": {},
   "source": [
    "## Conclusion\n",
    "As time passes by, all of the Confirmed, Death, Recovered Cases are approaching zero or a steady trend. Therefore, we don't need to worry too much about Covid-19 in 2027. Always stay safe and healthy."
   ]
  }
 ],
 "metadata": {
  "kernelspec": {
   "display_name": "Python 3",
   "language": "python",
   "name": "python3"
  },
  "language_info": {
   "codemirror_mode": {
    "name": "ipython",
    "version": 3
   },
   "file_extension": ".py",
   "mimetype": "text/x-python",
   "name": "python",
   "nbconvert_exporter": "python",
   "pygments_lexer": "ipython3",
   "version": "3.8.5"
  }
 },
 "nbformat": 4,
 "nbformat_minor": 4
}
